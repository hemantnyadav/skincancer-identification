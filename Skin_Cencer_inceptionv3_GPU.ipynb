{
  "nbformat": 4,
  "nbformat_minor": 0,
  "metadata": {
    "colab": {
      "provenance": [],
      "authorship_tag": "ABX9TyOxx6STje+awCD75UebP6MH",
      "include_colab_link": true
    },
    "kernelspec": {
      "name": "python3",
      "display_name": "Python 3"
    },
    "language_info": {
      "name": "python"
    },
    "accelerator": "GPU",
    "gpuClass": "standard"
  },
  "cells": [
    {
      "cell_type": "markdown",
      "metadata": {
        "id": "view-in-github",
        "colab_type": "text"
      },
      "source": [
        "<a href=\"https://colab.research.google.com/github/hemantnyadav/skincancer-identification/blob/main/Skin_Cencer_inceptionv3_GPU.ipynb\" target=\"_parent\"><img src=\"https://colab.research.google.com/assets/colab-badge.svg\" alt=\"Open In Colab\"/></a>"
      ]
    },
    {
      "cell_type": "code",
      "execution_count": 1,
      "metadata": {
        "colab": {
          "base_uri": "https://localhost:8080/",
          "height": 55
        },
        "id": "obYMPg0LYJjz",
        "outputId": "35a5440e-034a-4b4a-9b45-0749ee3c81b2"
      },
      "outputs": [
        {
          "output_type": "display_data",
          "data": {
            "text/plain": [
              "<IPython.core.display.HTML object>"
            ],
            "text/html": [
              "\n",
              "     <input type=\"file\" id=\"files-26f336c1-edfc-479f-8e25-cf1fb1432a2b\" name=\"files[]\" multiple disabled\n",
              "        style=\"border:none\" />\n",
              "     <output id=\"result-26f336c1-edfc-479f-8e25-cf1fb1432a2b\">\n",
              "      Upload widget is only available when the cell has been executed in the\n",
              "      current browser session. Please rerun this cell to enable.\n",
              "      </output>\n",
              "      <script>// Copyright 2017 Google LLC\n",
              "//\n",
              "// Licensed under the Apache License, Version 2.0 (the \"License\");\n",
              "// you may not use this file except in compliance with the License.\n",
              "// You may obtain a copy of the License at\n",
              "//\n",
              "//      http://www.apache.org/licenses/LICENSE-2.0\n",
              "//\n",
              "// Unless required by applicable law or agreed to in writing, software\n",
              "// distributed under the License is distributed on an \"AS IS\" BASIS,\n",
              "// WITHOUT WARRANTIES OR CONDITIONS OF ANY KIND, either express or implied.\n",
              "// See the License for the specific language governing permissions and\n",
              "// limitations under the License.\n",
              "\n",
              "/**\n",
              " * @fileoverview Helpers for google.colab Python module.\n",
              " */\n",
              "(function(scope) {\n",
              "function span(text, styleAttributes = {}) {\n",
              "  const element = document.createElement('span');\n",
              "  element.textContent = text;\n",
              "  for (const key of Object.keys(styleAttributes)) {\n",
              "    element.style[key] = styleAttributes[key];\n",
              "  }\n",
              "  return element;\n",
              "}\n",
              "\n",
              "// Max number of bytes which will be uploaded at a time.\n",
              "const MAX_PAYLOAD_SIZE = 100 * 1024;\n",
              "\n",
              "function _uploadFiles(inputId, outputId) {\n",
              "  const steps = uploadFilesStep(inputId, outputId);\n",
              "  const outputElement = document.getElementById(outputId);\n",
              "  // Cache steps on the outputElement to make it available for the next call\n",
              "  // to uploadFilesContinue from Python.\n",
              "  outputElement.steps = steps;\n",
              "\n",
              "  return _uploadFilesContinue(outputId);\n",
              "}\n",
              "\n",
              "// This is roughly an async generator (not supported in the browser yet),\n",
              "// where there are multiple asynchronous steps and the Python side is going\n",
              "// to poll for completion of each step.\n",
              "// This uses a Promise to block the python side on completion of each step,\n",
              "// then passes the result of the previous step as the input to the next step.\n",
              "function _uploadFilesContinue(outputId) {\n",
              "  const outputElement = document.getElementById(outputId);\n",
              "  const steps = outputElement.steps;\n",
              "\n",
              "  const next = steps.next(outputElement.lastPromiseValue);\n",
              "  return Promise.resolve(next.value.promise).then((value) => {\n",
              "    // Cache the last promise value to make it available to the next\n",
              "    // step of the generator.\n",
              "    outputElement.lastPromiseValue = value;\n",
              "    return next.value.response;\n",
              "  });\n",
              "}\n",
              "\n",
              "/**\n",
              " * Generator function which is called between each async step of the upload\n",
              " * process.\n",
              " * @param {string} inputId Element ID of the input file picker element.\n",
              " * @param {string} outputId Element ID of the output display.\n",
              " * @return {!Iterable<!Object>} Iterable of next steps.\n",
              " */\n",
              "function* uploadFilesStep(inputId, outputId) {\n",
              "  const inputElement = document.getElementById(inputId);\n",
              "  inputElement.disabled = false;\n",
              "\n",
              "  const outputElement = document.getElementById(outputId);\n",
              "  outputElement.innerHTML = '';\n",
              "\n",
              "  const pickedPromise = new Promise((resolve) => {\n",
              "    inputElement.addEventListener('change', (e) => {\n",
              "      resolve(e.target.files);\n",
              "    });\n",
              "  });\n",
              "\n",
              "  const cancel = document.createElement('button');\n",
              "  inputElement.parentElement.appendChild(cancel);\n",
              "  cancel.textContent = 'Cancel upload';\n",
              "  const cancelPromise = new Promise((resolve) => {\n",
              "    cancel.onclick = () => {\n",
              "      resolve(null);\n",
              "    };\n",
              "  });\n",
              "\n",
              "  // Wait for the user to pick the files.\n",
              "  const files = yield {\n",
              "    promise: Promise.race([pickedPromise, cancelPromise]),\n",
              "    response: {\n",
              "      action: 'starting',\n",
              "    }\n",
              "  };\n",
              "\n",
              "  cancel.remove();\n",
              "\n",
              "  // Disable the input element since further picks are not allowed.\n",
              "  inputElement.disabled = true;\n",
              "\n",
              "  if (!files) {\n",
              "    return {\n",
              "      response: {\n",
              "        action: 'complete',\n",
              "      }\n",
              "    };\n",
              "  }\n",
              "\n",
              "  for (const file of files) {\n",
              "    const li = document.createElement('li');\n",
              "    li.append(span(file.name, {fontWeight: 'bold'}));\n",
              "    li.append(span(\n",
              "        `(${file.type || 'n/a'}) - ${file.size} bytes, ` +\n",
              "        `last modified: ${\n",
              "            file.lastModifiedDate ? file.lastModifiedDate.toLocaleDateString() :\n",
              "                                    'n/a'} - `));\n",
              "    const percent = span('0% done');\n",
              "    li.appendChild(percent);\n",
              "\n",
              "    outputElement.appendChild(li);\n",
              "\n",
              "    const fileDataPromise = new Promise((resolve) => {\n",
              "      const reader = new FileReader();\n",
              "      reader.onload = (e) => {\n",
              "        resolve(e.target.result);\n",
              "      };\n",
              "      reader.readAsArrayBuffer(file);\n",
              "    });\n",
              "    // Wait for the data to be ready.\n",
              "    let fileData = yield {\n",
              "      promise: fileDataPromise,\n",
              "      response: {\n",
              "        action: 'continue',\n",
              "      }\n",
              "    };\n",
              "\n",
              "    // Use a chunked sending to avoid message size limits. See b/62115660.\n",
              "    let position = 0;\n",
              "    do {\n",
              "      const length = Math.min(fileData.byteLength - position, MAX_PAYLOAD_SIZE);\n",
              "      const chunk = new Uint8Array(fileData, position, length);\n",
              "      position += length;\n",
              "\n",
              "      const base64 = btoa(String.fromCharCode.apply(null, chunk));\n",
              "      yield {\n",
              "        response: {\n",
              "          action: 'append',\n",
              "          file: file.name,\n",
              "          data: base64,\n",
              "        },\n",
              "      };\n",
              "\n",
              "      let percentDone = fileData.byteLength === 0 ?\n",
              "          100 :\n",
              "          Math.round((position / fileData.byteLength) * 100);\n",
              "      percent.textContent = `${percentDone}% done`;\n",
              "\n",
              "    } while (position < fileData.byteLength);\n",
              "  }\n",
              "\n",
              "  // All done.\n",
              "  yield {\n",
              "    response: {\n",
              "      action: 'complete',\n",
              "    }\n",
              "  };\n",
              "}\n",
              "\n",
              "scope.google = scope.google || {};\n",
              "scope.google.colab = scope.google.colab || {};\n",
              "scope.google.colab._files = {\n",
              "  _uploadFiles,\n",
              "  _uploadFilesContinue,\n",
              "};\n",
              "})(self);\n",
              "</script> "
            ]
          },
          "metadata": {}
        },
        {
          "output_type": "execute_result",
          "data": {
            "text/plain": [
              "{}"
            ]
          },
          "metadata": {},
          "execution_count": 1
        }
      ],
      "source": [
        "! pip install -q kaggle\n",
        "from google.colab import files\n",
        "files.upload()"
      ]
    },
    {
      "cell_type": "code",
      "source": [
        "! mkdir ~/.kaggle\n",
        "! cp kaggle.json ~/.kaggle/\n",
        "! chmod 600 ~/.kaggle/kaggle.json\n",
        "! kaggle datasets download -d  hasnainjaved/melanoma-skin-cancer-dataset-of-10000-images"
      ],
      "metadata": {
        "colab": {
          "base_uri": "https://localhost:8080/"
        },
        "id": "BAErJZLeYZN8",
        "outputId": "9d452f4c-a803-439a-a308-4a3332bd2b9f"
      },
      "execution_count": null,
      "outputs": [
        {
          "output_type": "stream",
          "name": "stdout",
          "text": [
            "mkdir: cannot create directory ‘/root/.kaggle’: File exists\n",
            "Downloading melanoma-skin-cancer-dataset-of-10000-images.zip to /content\n",
            " 92% 91.0M/98.7M [00:01<00:00, 80.2MB/s]\n",
            "100% 98.7M/98.7M [00:01<00:00, 77.6MB/s]\n"
          ]
        }
      ]
    },
    {
      "cell_type": "code",
      "source": [
        "#!unzip melanoma-skin-cancer-dataset-of-10000-images.zip"
      ],
      "metadata": {
        "id": "Qr3zM_hzYjPq"
      },
      "execution_count": null,
      "outputs": []
    },
    {
      "cell_type": "code",
      "source": [
        "# Import required libraries\n",
        "import os\n",
        "import numpy as np\n",
        "import pandas as pd\n",
        "import tensorflow as tf\n",
        "from tensorflow.keras.preprocessing.image import ImageDataGenerator\n",
        "from tensorflow.keras.models import Sequential\n",
        "from tensorflow.keras.layers import Dense, Flatten, Dropout,Conv2D,MaxPooling2D\n",
        "from tensorflow.keras.applications import InceptionV3\n",
        "from tensorflow.keras.optimizers import Adam\n",
        "from keras.layers import GlobalAveragePooling2D"
      ],
      "metadata": {
        "id": "g2m2MFMIYvS9"
      },
      "execution_count": null,
      "outputs": []
    },
    {
      "cell_type": "code",
      "source": [
        "# Define the paths to the train and test directories\n",
        "train_dir = 'melanoma_cancer_dataset/train'\n",
        "test_dir = 'melanoma_cancer_dataset/test'"
      ],
      "metadata": {
        "id": "EJQSOk-7Yy-L"
      },
      "execution_count": null,
      "outputs": []
    },
    {
      "cell_type": "code",
      "source": [
        "# Set the image dimensions and batch size\n",
        "img_width, img_height = 224, 224\n",
        "batch_size = 128\n",
        "\n",
        "# Define the data generators for the train and test sets\n",
        "train_datagen = ImageDataGenerator(\n",
        "    rescale=1./255,         # Scale the pixel values from 0-255 to 0-1\n",
        "    rotation_range=40,      # Randomly rotate the images up to 40 degrees\n",
        "    width_shift_range=0.2,  # Randomly shift the images horizontally up to 20% of the width\n",
        "    height_shift_range=0.2, # Randomly shift the images vertically up to 20% of the height\n",
        "    #shear_range=0.2,        # Randomly apply shear transformations\n",
        "    zoom_range=0.2,         # Randomly zoom in on the images\n",
        "    horizontal_flip=True,   # Randomly flip the images horizontally\n",
        "    fill_mode='nearest')    # Fill any empty pixels with the nearest available pixel\n",
        "\n",
        "test_datagen = ImageDataGenerator(rescale=1./255)\n",
        "\n",
        "train_generator = train_datagen.flow_from_directory(\n",
        "    train_dir,              # Path to the train directory\n",
        "    target_size=(img_width, img_height), # Resize the images to the specified dimensions\n",
        "    batch_size=batch_size,\n",
        "    class_mode='binary') \n",
        "test_generator = test_datagen.flow_from_directory(\n",
        "    test_dir,               # Path to the test directory\n",
        "    target_size=(img_width, img_height),\n",
        "    batch_size=batch_size,\n",
        "    class_mode='binary')"
      ],
      "metadata": {
        "colab": {
          "base_uri": "https://localhost:8080/"
        },
        "id": "6oXQ868kY3CS",
        "outputId": "d329627c-5fba-4e18-86ae-ab47dca058b9"
      },
      "execution_count": null,
      "outputs": [
        {
          "output_type": "stream",
          "name": "stdout",
          "text": [
            "Found 9605 images belonging to 2 classes.\n",
            "Found 1000 images belonging to 2 classes.\n"
          ]
        }
      ]
    },
    {
      "cell_type": "code",
      "source": [
        "device_name = tf.test.gpu_device_name()\n",
        "if len(device_name) > 0:\n",
        "    print(\"Found GPU at: {}\".format(device_name))\n",
        "else:\n",
        "    device_name = \"/device:CPU:0\"\n",
        "    print(\"No GPU, using {}.\".format(device_name))"
      ],
      "metadata": {
        "colab": {
          "base_uri": "https://localhost:8080/"
        },
        "id": "ZnjKRLtjZKqn",
        "outputId": "92bca072-9559-48bb-9e40-c0df58f6c423"
      },
      "execution_count": null,
      "outputs": [
        {
          "output_type": "stream",
          "name": "stdout",
          "text": [
            "Found GPU at: /device:GPU:0\n"
          ]
        }
      ]
    },
    {
      "cell_type": "code",
      "source": [
        "with tf.device(device_name):\n",
        "\n",
        "    base_model = InceptionV3(\n",
        "      weights='imagenet',\n",
        "      include_top=False,\n",
        "      input_shape=(img_width, img_height, 3))\n",
        "    for layer in base_model.layers:\n",
        "      layer.trainable = False\n",
        "\n",
        "    model = Sequential()\n",
        "    model.add(base_model)\n",
        "    model.add(GlobalAveragePooling2D())\n",
        "    model.add(Dense(128, activation='relu'))\n",
        "    model.add(Dropout(0.5))\n",
        "    model.add(Dense(1, activation='sigmoid'))        # Create a TensorFlow model.\n",
        "    \n",
        "    opt = Adam(learning_rate=0.0001)\n",
        "\n",
        "    model.compile(\n",
        "    optimizer=opt,\n",
        "    loss='binary_crossentropy',\n",
        "    metrics=['accuracy']) # Compile the model on the GPU.\n",
        "# Once the model has been created and compiled on the GPU, it can be\n",
        "# trained as per usual.\n",
        "\n",
        "from keras.callbacks import EarlyStopping\n",
        "early_stop = EarlyStopping(patience=10, verbose=1)\n",
        "\n",
        "history = model.fit(\n",
        "    train_generator,\n",
        "    epochs=25,\n",
        "    validation_data=test_generator, \n",
        "    callbacks=[early_stop],\n",
        "    verbose=1)"
      ],
      "metadata": {
        "colab": {
          "base_uri": "https://localhost:8080/"
        },
        "id": "OgsSN0RgZvQw",
        "outputId": "942ab1e0-3182-48e6-9001-8cda6876bdd2"
      },
      "execution_count": null,
      "outputs": [
        {
          "output_type": "stream",
          "name": "stdout",
          "text": [
            "Downloading data from https://storage.googleapis.com/tensorflow/keras-applications/inception_v3/inception_v3_weights_tf_dim_ordering_tf_kernels_notop.h5\n",
            "87910968/87910968 [==============================] - 1s 0us/step\n",
            "Epoch 1/25\n",
            "76/76 [==============================] - 151s 2s/step - loss: 0.5325 - accuracy: 0.7327 - val_loss: 0.3607 - val_accuracy: 0.8540\n",
            "Epoch 2/25\n",
            "76/76 [==============================] - 126s 2s/step - loss: 0.4133 - accuracy: 0.8187 - val_loss: 0.3308 - val_accuracy: 0.8720\n",
            "Epoch 3/25\n",
            "76/76 [==============================] - 127s 2s/step - loss: 0.3813 - accuracy: 0.8335 - val_loss: 0.3190 - val_accuracy: 0.8780\n",
            "Epoch 4/25\n",
            "76/76 [==============================] - 126s 2s/step - loss: 0.3673 - accuracy: 0.8343 - val_loss: 0.3130 - val_accuracy: 0.8750\n",
            "Epoch 5/25\n",
            "76/76 [==============================] - 126s 2s/step - loss: 0.3561 - accuracy: 0.8483 - val_loss: 0.3137 - val_accuracy: 0.8670\n",
            "Epoch 6/25\n",
            "76/76 [==============================] - 127s 2s/step - loss: 0.3436 - accuracy: 0.8562 - val_loss: 0.3045 - val_accuracy: 0.8870\n",
            "Epoch 7/25\n",
            "76/76 [==============================] - 125s 2s/step - loss: 0.3332 - accuracy: 0.8583 - val_loss: 0.2983 - val_accuracy: 0.8840\n",
            "Epoch 8/25\n",
            "76/76 [==============================] - 125s 2s/step - loss: 0.3283 - accuracy: 0.8647 - val_loss: 0.2945 - val_accuracy: 0.8880\n",
            "Epoch 9/25\n",
            "76/76 [==============================] - 125s 2s/step - loss: 0.3175 - accuracy: 0.8674 - val_loss: 0.2887 - val_accuracy: 0.8840\n",
            "Epoch 10/25\n",
            "76/76 [==============================] - 125s 2s/step - loss: 0.3242 - accuracy: 0.8641 - val_loss: 0.2886 - val_accuracy: 0.8900\n",
            "Epoch 11/25\n",
            "76/76 [==============================] - 127s 2s/step - loss: 0.3123 - accuracy: 0.8717 - val_loss: 0.2874 - val_accuracy: 0.8920\n",
            "Epoch 12/25\n",
            "76/76 [==============================] - 126s 2s/step - loss: 0.3124 - accuracy: 0.8685 - val_loss: 0.2865 - val_accuracy: 0.8800\n",
            "Epoch 13/25\n",
            "76/76 [==============================] - 126s 2s/step - loss: 0.3080 - accuracy: 0.8731 - val_loss: 0.2828 - val_accuracy: 0.8830\n",
            "Epoch 14/25\n",
            "76/76 [==============================] - 123s 2s/step - loss: 0.3064 - accuracy: 0.8691 - val_loss: 0.2798 - val_accuracy: 0.8830\n",
            "Epoch 15/25\n",
            "76/76 [==============================] - 124s 2s/step - loss: 0.2984 - accuracy: 0.8734 - val_loss: 0.2781 - val_accuracy: 0.8930\n",
            "Epoch 16/25\n",
            "76/76 [==============================] - 125s 2s/step - loss: 0.3005 - accuracy: 0.8745 - val_loss: 0.2791 - val_accuracy: 0.8800\n",
            "Epoch 17/25\n",
            "76/76 [==============================] - 123s 2s/step - loss: 0.3003 - accuracy: 0.8775 - val_loss: 0.2740 - val_accuracy: 0.8870\n",
            "Epoch 18/25\n",
            "76/76 [==============================] - 123s 2s/step - loss: 0.2914 - accuracy: 0.8784 - val_loss: 0.2765 - val_accuracy: 0.8760\n",
            "Epoch 19/25\n",
            "76/76 [==============================] - 126s 2s/step - loss: 0.2908 - accuracy: 0.8778 - val_loss: 0.2713 - val_accuracy: 0.8870\n",
            "Epoch 20/25\n",
            "76/76 [==============================] - 124s 2s/step - loss: 0.2969 - accuracy: 0.8784 - val_loss: 0.2722 - val_accuracy: 0.8890\n",
            "Epoch 21/25\n",
            "76/76 [==============================] - 125s 2s/step - loss: 0.2878 - accuracy: 0.8805 - val_loss: 0.2706 - val_accuracy: 0.8920\n",
            "Epoch 22/25\n",
            "76/76 [==============================] - 124s 2s/step - loss: 0.2942 - accuracy: 0.8762 - val_loss: 0.2685 - val_accuracy: 0.8870\n",
            "Epoch 23/25\n",
            "76/76 [==============================] - 124s 2s/step - loss: 0.2895 - accuracy: 0.8824 - val_loss: 0.2694 - val_accuracy: 0.8860\n",
            "Epoch 24/25\n",
            "76/76 [==============================] - 124s 2s/step - loss: 0.2845 - accuracy: 0.8802 - val_loss: 0.2716 - val_accuracy: 0.8930\n",
            "Epoch 25/25\n",
            "76/76 [==============================] - 124s 2s/step - loss: 0.2832 - accuracy: 0.8814 - val_loss: 0.2690 - val_accuracy: 0.8940\n"
          ]
        }
      ]
    },
    {
      "cell_type": "code",
      "source": [
        "# Evaluate the model on the test set\n",
        "loss, accuracy = model.evaluate(test_generator)\n",
        "print('Test accuracy:', accuracy)"
      ],
      "metadata": {
        "colab": {
          "base_uri": "https://localhost:8080/"
        },
        "id": "L6h1ojCeoMnA",
        "outputId": "ae0ac935-5c8d-41ec-bff6-dfe87f70921c"
      },
      "execution_count": null,
      "outputs": [
        {
          "output_type": "stream",
          "name": "stdout",
          "text": [
            "8/8 [==============================] - 3s 386ms/step - loss: 0.2690 - accuracy: 0.8940\n",
            "Test accuracy: 0.8939999938011169\n"
          ]
        }
      ]
    },
    {
      "cell_type": "code",
      "source": [
        "# Plot loss values vs epoch\n",
        "import matplotlib.pyplot as plt\n",
        "plt.plot(history.history['loss'])\n",
        "plt.plot(history.history['val_loss'])\n",
        "plt.title('Model loss')\n",
        "plt.ylabel('Loss')\n",
        "plt.xlabel('Epoch')\n",
        "plt.legend(['Train', 'Test'], loc='upper left')\n",
        "plt.show()"
      ],
      "metadata": {
        "colab": {
          "base_uri": "https://localhost:8080/",
          "height": 472
        },
        "id": "ivoEUL7PoQlj",
        "outputId": "b923b1a2-2fd9-4c17-c662-441be234520f"
      },
      "execution_count": null,
      "outputs": [
        {
          "output_type": "display_data",
          "data": {
            "text/plain": [
              "<Figure size 640x480 with 1 Axes>"
            ],
            "image/png": "[encoded data removed]"
          },
          "metadata": {}
        }
      ]
    },
    {
      "cell_type": "code",
      "source": [
        "# Save the model\n",
        "model.save('skincancer_inception1_GPU.h5')"
      ],
      "metadata": {
        "id": "UkGYNO5YoSwK"
      },
      "execution_count": null,
      "outputs": []
    },
    {
      "cell_type": "code",
      "source": [
        "test_pred = model.predict(test_generator)"
      ],
      "metadata": {
        "colab": {
          "base_uri": "https://localhost:8080/"
        },
        "id": "T1U0YvEvp6kN",
        "outputId": "cd3604e2-4a8b-4926-cc8c-5ff6845f75a3"
      },
      "execution_count": null,
      "outputs": [
        {
          "output_type": "stream",
          "name": "stdout",
          "text": [
            "8/8 [==============================] - 4s 542ms/step\n"
          ]
        }
      ]
    },
    {
      "cell_type": "code",
      "source": [
        "y_test_pred = ( test_pred> 0.5).astype(\"int32\")  \n",
        "y_test_true =  np.concatenate([test_generator.next()[1] for i in range(test_generator.__len__())]) "
      ],
      "metadata": {
        "id": "IsUPk9Saoxhk"
      },
      "execution_count": null,
      "outputs": []
    },
    {
      "cell_type": "code",
      "source": [
        "from sklearn.metrics import confusion_matrix\n",
        "confusion_matrix(y_test_pred, y_test_true)"
      ],
      "metadata": {
        "colab": {
          "base_uri": "https://localhost:8080/"
        },
        "id": "YUnlffE_pa3n",
        "outputId": "b555dabd-1729-4e41-8df0-37cb107d5462"
      },
      "execution_count": null,
      "outputs": [
        {
          "output_type": "execute_result",
          "data": {
            "text/plain": [
              "array([[267, 271],\n",
              "       [233, 229]])"
            ]
          },
          "metadata": {},
          "execution_count": 26
        }
      ]
    },
    {
      "cell_type": "code",
      "source": [],
      "metadata": {
        "id": "IkTIuUI5q-Mx"
      },
      "execution_count": null,
      "outputs": []
    }
  ]
}